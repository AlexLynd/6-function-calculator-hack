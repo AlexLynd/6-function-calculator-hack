{
 "cells": [
  {
   "cell_type": "code",
   "execution_count": null,
   "metadata": {},
   "outputs": [],
   "source": [
    "from calc_modules import calc, ref  \n",
    "from matrices import *\n",
    "from pad4pi import rpi_gpio\n",
    "import os, sys"
   ]
  },
  {
   "cell_type": "code",
   "execution_count": null,
   "metadata": {},
   "outputs": [],
   "source": [
    "LS82Z= [['%',7,'=',0,'RM',None],\n",
    "        ['M-',8,'M+',1,4,None], \n",
    "        ['clr',9,'/',2,5,None],\n",
    "        ['+','-','X',3,6,'on'],\n",
    "        [None,None,None,'sqrt','.',None] ]\n"
   ]
  },
  {
   "cell_type": "code",
   "execution_count": null,
   "metadata": {},
   "outputs": [],
   "source": [
    "sys.path.append('/matrices')\n",
    "from Canon import LS82Z[]\n",
    "\n",
    "GPIO.setwarnings(False)\n",
    "\n",
    "programlist= [calc,ref] \n",
    "inp=''\n",
    "matrix= [\n",
    "    ['%',7,'=',0,'RM',None],\n",
    "    ['M-',8,'M+',1,4,None], \n",
    "    ['clr',9,'/',2,5,None],\n",
    "    ['+','-','X',3,6,'on'],\n",
    "    [None,None,None,'sqrt','.',None]   ]\n",
    "row= [4,11,22,18,10]\n",
    "col= [17,9,27,14,3,15]\n",
    "\n",
    "factory= rpi_gpio.KeypadFactory()\n",
    "keypad= factory.create_keypad(keypad=matrix,row_pins=row,col_pins=col)\n",
    "   \n",
    "def prog_validate(key):\n",
    "    global inp, programlist\n",
    "    if (len(inp)<8) and (type(key)== int):\n",
    "        inp+=str(key)\n",
    "        print(inp)\n",
    "    if key== '=':\n",
    "        try:\n",
    "            inp10= int(inp,2)\n",
    "            keypad.registerKeyPressHandler(programlist[inp10])\n",
    "        except ValueError:\n",
    "            print('Error')\n",
    "        except IndexError:\n",
    "        print('Error')\n",
    "        else:\n",
    "            print('Valid binary input.')\n",
    "            print(inp10)\n",
    "            keypad.unregisterKeyPressHandler(prog_validate)\n",
    "    if key== 'clr'or key== '=':\n",
    "        inp=''\n",
    "        \n",
    "def default(prog_name):\n",
    "    keypad.unregisterKeyPressHandler(prog_name)\n",
    "    keypad.registerKeyPressHandler(prog_validate)\n",
    "keypad.registerKeyPressHandler(prog_validate)\n"
   ]
  }
 ],
 "metadata": {
  "kernelspec": {
   "display_name": "Python 3",
   "language": "python",
   "name": "python3"
  },
  "language_info": {
   "codemirror_mode": {
    "name": "ipython",
    "version": 3
   },
   "file_extension": ".py",
   "mimetype": "text/x-python",
   "name": "python",
   "nbconvert_exporter": "python",
   "pygments_lexer": "ipython3",
   "version": "3.6.5"
  }
 },
 "nbformat": 4,
 "nbformat_minor": 2
}
