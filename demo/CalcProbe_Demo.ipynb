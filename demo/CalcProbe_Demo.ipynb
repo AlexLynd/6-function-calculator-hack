{
 "cells": [
  {
   "cell_type": "code",
   "execution_count": 16,
   "metadata": {},
   "outputs": [],
   "source": [
    "from pad4pi import rpi_gpio\n",
    "import RPi.GPIO as GPIO"
   ]
  },
  {
   "cell_type": "code",
   "execution_count": 17,
   "metadata": {},
   "outputs": [],
   "source": [
    "# key matrix\n",
    "LS82Z= [['%',7,'=',0,'RM',None],\n",
    "        ['M-',8,'M+',1,4,None], \n",
    "        ['clr',9,'/',2,5,None],\n",
    "        ['+','-','X',3,6,'on'],\n",
    "        [None,None,None,'sqrt','.',None] ]"
   ]
  },
  {
   "cell_type": "code",
   "execution_count": 19,
   "metadata": {},
   "outputs": [
    {
     "ename": "RuntimeError",
     "evalue": "Conflicting edge detection already enabled for this GPIO channel",
     "output_type": "error",
     "traceback": [
      "\u001b[0;31m---------------------------------------------------------------------------\u001b[0m",
      "\u001b[0;31mRuntimeError\u001b[0m                              Traceback (most recent call last)",
      "\u001b[0;32m<ipython-input-19-386c613af46e>\u001b[0m in \u001b[0;36m<module>\u001b[0;34m\u001b[0m\n\u001b[1;32m     11\u001b[0m \u001b[0;34m\u001b[0m\u001b[0m\n\u001b[1;32m     12\u001b[0m \u001b[0mfactory\u001b[0m\u001b[0;34m=\u001b[0m \u001b[0mrpi_gpio\u001b[0m\u001b[0;34m.\u001b[0m\u001b[0mKeypadFactory\u001b[0m\u001b[0;34m(\u001b[0m\u001b[0;34m)\u001b[0m\u001b[0;34m\u001b[0m\u001b[0;34m\u001b[0m\u001b[0m\n\u001b[0;32m---> 13\u001b[0;31m \u001b[0mkeypad\u001b[0m\u001b[0;34m=\u001b[0m \u001b[0mfactory\u001b[0m\u001b[0;34m.\u001b[0m\u001b[0mcreate_keypad\u001b[0m\u001b[0;34m(\u001b[0m\u001b[0mkeypad\u001b[0m\u001b[0;34m=\u001b[0m\u001b[0mmatrix\u001b[0m\u001b[0;34m,\u001b[0m\u001b[0mrow_pins\u001b[0m\u001b[0;34m=\u001b[0m\u001b[0mrow\u001b[0m\u001b[0;34m,\u001b[0m\u001b[0mcol_pins\u001b[0m\u001b[0;34m=\u001b[0m\u001b[0mcol\u001b[0m\u001b[0;34m)\u001b[0m\u001b[0;34m\u001b[0m\u001b[0;34m\u001b[0m\u001b[0m\n\u001b[0m\u001b[1;32m     14\u001b[0m \u001b[0;34m\u001b[0m\u001b[0m\n\u001b[1;32m     15\u001b[0m \u001b[0;32mdef\u001b[0m \u001b[0mprog_validate\u001b[0m\u001b[0;34m(\u001b[0m\u001b[0mkey\u001b[0m\u001b[0;34m)\u001b[0m\u001b[0;34m:\u001b[0m\u001b[0;34m\u001b[0m\u001b[0;34m\u001b[0m\u001b[0m\n",
      "\u001b[0;32m~/.local/lib/python3.7/site-packages/pad4pi/rpi_gpio.py\u001b[0m in \u001b[0;36mcreate_keypad\u001b[0;34m(self, keypad, row_pins, col_pins, key_delay, repeat, repeat_delay, repeat_rate, gpio_mode)\u001b[0m\n\u001b[1;32m     28\u001b[0m             \u001b[0mcol_pins\u001b[0m \u001b[0;34m=\u001b[0m \u001b[0;34m[\u001b[0m\u001b[0;36m18\u001b[0m\u001b[0;34m,\u001b[0m\u001b[0;36m27\u001b[0m\u001b[0;34m,\u001b[0m\u001b[0;36m22\u001b[0m\u001b[0;34m]\u001b[0m\u001b[0;34m\u001b[0m\u001b[0;34m\u001b[0m\u001b[0m\n\u001b[1;32m     29\u001b[0m \u001b[0;34m\u001b[0m\u001b[0m\n\u001b[0;32m---> 30\u001b[0;31m         \u001b[0;32mreturn\u001b[0m \u001b[0mKeypad\u001b[0m\u001b[0;34m(\u001b[0m\u001b[0mkeypad\u001b[0m\u001b[0;34m,\u001b[0m \u001b[0mrow_pins\u001b[0m\u001b[0;34m,\u001b[0m \u001b[0mcol_pins\u001b[0m\u001b[0;34m,\u001b[0m \u001b[0mkey_delay\u001b[0m\u001b[0;34m,\u001b[0m \u001b[0mrepeat\u001b[0m\u001b[0;34m,\u001b[0m \u001b[0mrepeat_delay\u001b[0m\u001b[0;34m,\u001b[0m \u001b[0mrepeat_rate\u001b[0m\u001b[0;34m,\u001b[0m \u001b[0mgpio_mode\u001b[0m\u001b[0;34m)\u001b[0m\u001b[0;34m\u001b[0m\u001b[0;34m\u001b[0m\u001b[0m\n\u001b[0m\u001b[1;32m     31\u001b[0m \u001b[0;34m\u001b[0m\u001b[0m\n\u001b[1;32m     32\u001b[0m     \u001b[0;32mdef\u001b[0m \u001b[0mcreate_4_by_3_keypad\u001b[0m\u001b[0;34m(\u001b[0m\u001b[0mself\u001b[0m\u001b[0;34m)\u001b[0m\u001b[0;34m:\u001b[0m\u001b[0;34m\u001b[0m\u001b[0;34m\u001b[0m\u001b[0m\n",
      "\u001b[0;32m~/.local/lib/python3.7/site-packages/pad4pi/rpi_gpio.py\u001b[0m in \u001b[0;36m__init__\u001b[0;34m(self, keypad, row_pins, col_pins, key_delay, repeat, repeat_delay, repeat_rate, gpio_mode)\u001b[0m\n\u001b[1;32m     86\u001b[0m         \u001b[0mGPIO\u001b[0m\u001b[0;34m.\u001b[0m\u001b[0msetmode\u001b[0m\u001b[0;34m(\u001b[0m\u001b[0mgpio_mode\u001b[0m\u001b[0;34m)\u001b[0m\u001b[0;34m\u001b[0m\u001b[0;34m\u001b[0m\u001b[0m\n\u001b[1;32m     87\u001b[0m \u001b[0;34m\u001b[0m\u001b[0m\n\u001b[0;32m---> 88\u001b[0;31m         \u001b[0mself\u001b[0m\u001b[0;34m.\u001b[0m\u001b[0m_setRowsAsInput\u001b[0m\u001b[0;34m(\u001b[0m\u001b[0;34m)\u001b[0m\u001b[0;34m\u001b[0m\u001b[0;34m\u001b[0m\u001b[0m\n\u001b[0m\u001b[1;32m     89\u001b[0m         \u001b[0mself\u001b[0m\u001b[0;34m.\u001b[0m\u001b[0m_setColumnsAsOutput\u001b[0m\u001b[0;34m(\u001b[0m\u001b[0;34m)\u001b[0m\u001b[0;34m\u001b[0m\u001b[0;34m\u001b[0m\u001b[0m\n\u001b[1;32m     90\u001b[0m \u001b[0;34m\u001b[0m\u001b[0m\n",
      "\u001b[0;32m~/.local/lib/python3.7/site-packages/pad4pi/rpi_gpio.py\u001b[0m in \u001b[0;36m_setRowsAsInput\u001b[0;34m(self)\u001b[0m\n\u001b[1;32m    126\u001b[0m         \u001b[0;32mfor\u001b[0m \u001b[0mi\u001b[0m \u001b[0;32min\u001b[0m \u001b[0mrange\u001b[0m\u001b[0;34m(\u001b[0m\u001b[0mlen\u001b[0m\u001b[0;34m(\u001b[0m\u001b[0mself\u001b[0m\u001b[0;34m.\u001b[0m\u001b[0m_row_pins\u001b[0m\u001b[0;34m)\u001b[0m\u001b[0;34m)\u001b[0m\u001b[0;34m:\u001b[0m\u001b[0;34m\u001b[0m\u001b[0;34m\u001b[0m\u001b[0m\n\u001b[1;32m    127\u001b[0m             \u001b[0mGPIO\u001b[0m\u001b[0;34m.\u001b[0m\u001b[0msetup\u001b[0m\u001b[0;34m(\u001b[0m\u001b[0mself\u001b[0m\u001b[0;34m.\u001b[0m\u001b[0m_row_pins\u001b[0m\u001b[0;34m[\u001b[0m\u001b[0mi\u001b[0m\u001b[0;34m]\u001b[0m\u001b[0;34m,\u001b[0m \u001b[0mGPIO\u001b[0m\u001b[0;34m.\u001b[0m\u001b[0mIN\u001b[0m\u001b[0;34m,\u001b[0m \u001b[0mpull_up_down\u001b[0m\u001b[0;34m=\u001b[0m\u001b[0mGPIO\u001b[0m\u001b[0;34m.\u001b[0m\u001b[0mPUD_UP\u001b[0m\u001b[0;34m)\u001b[0m\u001b[0;34m\u001b[0m\u001b[0;34m\u001b[0m\u001b[0m\n\u001b[0;32m--> 128\u001b[0;31m             \u001b[0mGPIO\u001b[0m\u001b[0;34m.\u001b[0m\u001b[0madd_event_detect\u001b[0m\u001b[0;34m(\u001b[0m\u001b[0mself\u001b[0m\u001b[0;34m.\u001b[0m\u001b[0m_row_pins\u001b[0m\u001b[0;34m[\u001b[0m\u001b[0mi\u001b[0m\u001b[0;34m]\u001b[0m\u001b[0;34m,\u001b[0m \u001b[0mGPIO\u001b[0m\u001b[0;34m.\u001b[0m\u001b[0mFALLING\u001b[0m\u001b[0;34m,\u001b[0m \u001b[0mcallback\u001b[0m\u001b[0;34m=\u001b[0m\u001b[0mself\u001b[0m\u001b[0;34m.\u001b[0m\u001b[0m_onKeyPress\u001b[0m\u001b[0;34m,\u001b[0m \u001b[0mbouncetime\u001b[0m\u001b[0;34m=\u001b[0m\u001b[0mDEFAULT_DEBOUNCE_TIME\u001b[0m\u001b[0;34m)\u001b[0m\u001b[0;34m\u001b[0m\u001b[0;34m\u001b[0m\u001b[0m\n\u001b[0m\u001b[1;32m    129\u001b[0m \u001b[0;34m\u001b[0m\u001b[0m\n\u001b[1;32m    130\u001b[0m     \u001b[0;32mdef\u001b[0m \u001b[0m_setColumnsAsOutput\u001b[0m\u001b[0;34m(\u001b[0m\u001b[0mself\u001b[0m\u001b[0;34m)\u001b[0m\u001b[0;34m:\u001b[0m\u001b[0;34m\u001b[0m\u001b[0;34m\u001b[0m\u001b[0m\n",
      "\u001b[0;31mRuntimeError\u001b[0m: Conflicting edge detection already enabled for this GPIO channel"
     ]
    }
   ],
   "source": [
    "GPIO.setwarnings(False)\n",
    "inp=''\n",
    "matrix= [\n",
    "    ['%',7,'=',0,'RM',None],\n",
    "    ['M-',8,'M+',1,4,None], \n",
    "    ['clr',9,'/',2,5,None],\n",
    "    ['+','-','X',3,6,'on'],\n",
    "    [None,None,None,'sqrt','.',None]   ]\n",
    "row= [4,11,22,18,10]\n",
    "col= [17,9,27,14,3,15]\n",
    "\n",
    "factory= rpi_gpio.KeypadFactory()\n",
    "keypad= factory.create_keypad(keypad=matrix,row_pins=row,col_pins=col)\n",
    "   \n",
    "def prog_validate(key):\n",
    "    global inp, programlist\n",
    "    if (len(inp)<8) and (type(key)== int):\n",
    "        inp+=str(key)\n",
    "        print(inp)\n",
    "    if key== '=':\n",
    "        try:\n",
    "            inp10= int(inp,2)\n",
    "            keypad.registerKeyPressHandler(programlist[inp10])\n",
    "        except ValueError:\n",
    "            print('Error')\n",
    "        except IndexError:\n",
    "            print('Error')\n",
    "        else:\n",
    "            print('Valid binary input.')\n",
    "            print(inp10)\n",
    "            keypad.unregisterKeyPressHandler(prog_validate)\n",
    "    if key== 'clr'or key== '=':\n",
    "        inp=''\n",
    "        \n",
    "def default(prog_name):\n",
    "    keypad.unregisterKeyPressHandler(prog_name)\n",
    "    keypad.registerKeyPressHandler(prog_validate)\n",
    "keypad.registerKeyPressHandler(prog_validate)\n"
   ]
  },
  {
   "cell_type": "code",
   "execution_count": null,
   "metadata": {},
   "outputs": [],
   "source": []
  },
  {
   "cell_type": "code",
   "execution_count": null,
   "metadata": {},
   "outputs": [],
   "source": []
  }
 ],
 "metadata": {
  "kernelspec": {
   "display_name": "Python 3",
   "language": "python",
   "name": "python3"
  },
  "language_info": {
   "codemirror_mode": {
    "name": "ipython",
    "version": 3
   },
   "file_extension": ".py",
   "mimetype": "text/x-python",
   "name": "python",
   "nbconvert_exporter": "python",
   "pygments_lexer": "ipython3",
   "version": "3.7.3"
  }
 },
 "nbformat": 4,
 "nbformat_minor": 2
}
