{
 "cells": [
  {
   "cell_type": "code",
   "execution_count": 16,
   "metadata": {},
   "outputs": [],
   "source": [
    "from pad4pi import rpi_gpio\n",
    "import RPi.GPIO as GPIO\n",
    "GPIO.setwarnings(False)"
   ]
  },
  {
   "cell_type": "code",
   "execution_count": 4,
   "metadata": {},
   "outputs": [],
   "source": [
    "# key matrix\n",
    "matrix = [['%',7,'=',0,'RM',None],\n",
    "          ['M-',8,'M+',1,4,None], \n",
    "          ['clr',9,'/',2,5,None],\n",
    "          ['+','-','X',3,6,'on'],\n",
    "          [None,None,None,'sqrt','.',None] ]\n",
    "\n",
    "# GPIO BCM\n",
    "row = [4,11,22,18,10]\n",
    "col = [17,9,27,14,3,15]"
   ]
  },
  {
   "cell_type": "code",
   "execution_count": 13,
   "metadata": {},
   "outputs": [],
   "source": [
    "programs = [bin_to_b10, fibonnaci]\n",
    "\n",
    "# binary to base 10 \n",
    "def bin_to_b10(n): return int(n,2)\n",
    "\n",
    "# fibonnaci sequence selector\n",
    "def fibonacci(n): \n",
    "    if n < 0: print(\"Incorrect input\") \n",
    "    elif n == 1: return 0\n",
    "    elif n == 2: return 1\n",
    "    else: return fibonacci(n-1)+fibonacci(n-2)  \n",
    "\n",
    "# quadratic formula"
   ]
  },
  {
   "cell_type": "code",
   "execution_count": null,
   "metadata": {},
   "outputs": [],
   "source": [
    "factory = rpi_gpio.KeypadFactory()\n",
    "keypad = factory.create_keypad(keypad=matrix, row_pins=row, col_pins=col)"
   ]
  },
  {
   "cell_type": "code",
   "execution_count": null,
   "metadata": {},
   "outputs": [],
   "source": [
    "inp=''\n",
    "\n",
    "def prog_validate(key):\n",
    "    global inp, programlist\n",
    "    if (len(inp) < 8) and (type(key) == int):\n",
    "        inp+= str(key)\n",
    "        print(inp)\n",
    "    if key == '=':\n",
    "        try:\n",
    "            inp10= int(inp,2)\n",
    "            keypad.registerKeyPressHandler(programlist[inp10])\n",
    "        except ValueError:\n",
    "            print('Error')\n",
    "        except IndexError:\n",
    "            print('Error')\n",
    "        else:\n",
    "            print('Valid binary input.')\n",
    "            print(inp10)\n",
    "            keypad.unregisterKeyPressHandler(prog_validate)\n",
    "    if key== 'clr'or key== '=':\n",
    "        inp=''\n",
    "        \n",
    "def default(prog_name):\n",
    "    keypad.unregisterKeyPressHandler(prog_name)\n",
    "    keypad.registerKeyPressHandler(prog_validate)"
   ]
  },
  {
   "cell_type": "code",
   "execution_count": null,
   "metadata": {},
   "outputs": [],
   "source": [
    "keypad.registerKeyPressHandler(prog_validate)\n",
    "keypad.cleanup()"
   ]
  },
  {
   "cell_type": "code",
   "execution_count": null,
   "metadata": {},
   "outputs": [],
   "source": []
  }
 ],
 "metadata": {
  "kernelspec": {
   "display_name": "Python 3",
   "language": "python",
   "name": "python3"
  },
  "language_info": {
   "codemirror_mode": {
    "name": "ipython",
    "version": 3
   },
   "file_extension": ".py",
   "mimetype": "text/x-python",
   "name": "python",
   "nbconvert_exporter": "python",
   "pygments_lexer": "ipython3",
   "version": "3.6.5"
  }
 },
 "nbformat": 4,
 "nbformat_minor": 2
}
